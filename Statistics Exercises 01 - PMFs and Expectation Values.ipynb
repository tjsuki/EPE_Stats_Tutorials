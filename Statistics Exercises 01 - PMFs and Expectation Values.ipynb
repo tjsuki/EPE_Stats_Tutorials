{
 "cells": [
  {
   "cell_type": "markdown",
   "id": "synthetic-martial",
   "metadata": {},
   "source": [
    "# Statistics Exercises 01\n",
    "\n",
    "By Yi-Lun (Alan) Chung $^\\dagger$, Carter Vu$^*$ and Haoran Zhao$^*$\n",
    "\n",
    "$^\\dagger$ National Tsing Hua University, Taiwan\n",
    "\n",
    "$^*$ University of Washington, Seattle\n",
    "\n",
    "Winter 2021"
   ]
  },
  {
   "cell_type": "markdown",
   "id": "individual-imaging",
   "metadata": {},
   "source": [
    "## Intro\n",
    "In this set of exercises, we will review 3 types of distributions: Gaussian/Normal distributions, Poisson distributions, and Binomial distributions. Check them out below!\n",
    "\n",
    "https://en.wikipedia.org/wiki/Normal_distribution\n",
    "\n",
    "https://en.wikipedia.org/wiki/Poisson_distribution\n",
    "\n",
    "https://en.wikipedia.org/wiki/Binomial_distribution#:~:text=In%20probability%20theory%20and%20statistics,with%20probability%20p)%20or%20failure%20("
   ]
  },
  {
   "cell_type": "markdown",
   "id": "magnetic-argentina",
   "metadata": {},
   "source": [
    "# Installing Packages\n",
    "\n",
    "Install conda: https://docs.conda.io/projects/conda/en/latest/user-guide/install/\n",
    "\n",
    "\n",
    "\n",
    "First, create an environment with only the packages for this tutorial, so that you can keep it separate and other installs on your system won’t interfere with it, and activate the environment so that you can access those packages.\n",
    "\n",
    "conda create --name EPE_Stats_Packages python\n",
    "\n",
    "conda activate EPE_Stats_Packages\n",
    "\n",
    "\n",
    "Now that you are in the appropriate environment, install the following packages:\n",
    "\n",
    "- conda install - c conda-forge jupyterlab (this gives you access to the full jupyterlab integrated development environment, or IDE, if you just want the base functionality you can use conda install -c conda-forge notebook)\n",
    "- conda install -c anaconda scipy\n",
    "- conda install -c conda-forge matplotlib\n",
    "- conda install -c anaconda numpy (if you don’t have it already or by default)\n",
    "\n",
    "You can use: \n",
    "- conda list to see the packages you’ve installed in this environment\n",
    "- conda info --envs to see which environments are available/you’ve created\n",
    "\n",
    "Open the notebook:\n",
    "\n",
    "jupyter-notebook PATH/TO/NOTEBOOK.ipynb or jupyter-notebook PATH/TO/DIRECTORY if you like jupyter's GUI.\n",
    "\n",
    "Heads up: eventually, we want to move to reproducing the plots in the paper here (https://arxiv.org/pdf/1007.1727.pdf), where we’ll want to have some familiarity with numpy, matplotlib, and scipy. Hold on to your hats!\n"
   ]
  },
  {
   "cell_type": "code",
   "execution_count": null,
   "id": "civic-chapel",
   "metadata": {},
   "outputs": [],
   "source": [
    "# Hint: Use these packages! Feel free to use others if you like, but these should contain all you need.\n",
    "import random\n",
    "import math\n",
    "import matplotlib.pyplot as plt\n",
    "import numpy as np"
   ]
  },
  {
   "cell_type": "markdown",
   "id": "fossil-brighton",
   "metadata": {},
   "source": [
    "## Exercise 1: Plot Gaussian, Poisson, binomial distribution based on some given PMFs\n",
    "\n",
    "Below are the PMFs for three different distributions. Note that the PMF is the discrete counterpart of the continuous PDF. Create a function for each distribution, and plot them using matplotlib!\n",
    "\n",
    "Probability density function (PDF) for the normal distribution:\n",
    "\n",
    "## $$g(x|\\mu,\\sigma) = \\frac{1}{\\sqrt{2\\pi\\,\\sigma^2}}exp[-\\frac{(x-\\mu)^2}{2\\,\\sigma^2}], \\, \\,  x \\in (-\\infty, \\infty)$$\n",
    "\n",
    "\n",
    "Probability mass function (PMF) for the poisson distribution: \n",
    "\n",
    "## $$p(x|\\mu,\\sigma) = exp[-\\mu]\\frac{\\mu^x}{x!}, \\, \\,  x \\in \\text{N}, x\\geq0$$\n",
    "\n",
    "\n",
    "Probability mass function (PMF) for the binomial distribution: \n",
    "\n",
    "## $$p(x| N) = \\frac{N!}{x!(N-x)!}\\frac{1}{2^N}, \\, \\,  x\\in \\text{N}$$\n",
    "\n",
    " "
   ]
  },
  {
   "cell_type": "code",
   "execution_count": null,
   "id": "awful-music",
   "metadata": {},
   "outputs": [],
   "source": []
  },
  {
   "cell_type": "markdown",
   "id": "quick-brazilian",
   "metadata": {},
   "source": [
    "## Exercise 2: Plot the PMFs as binned histograms instead of continuous distributions\n",
    "Note: it can help if you think about the binned histogram value as the expectation value for that bin! You can use numpy.histogram."
   ]
  },
  {
   "cell_type": "code",
   "execution_count": 3,
   "id": "patent-wrist",
   "metadata": {},
   "outputs": [],
   "source": []
  },
  {
   "cell_type": "markdown",
   "id": "antique-repository",
   "metadata": {},
   "source": [
    "## Exercise 3: Randomly sample the PMFs\n",
    "\n",
    "Generate 10,000 values such that the histogram of the values follows a gaussian/poisson/binomial distribution. Randomly picking one such value according to a distribution is known as \"sampling\" that distribution. This is effectively what monte-carlo simulations are doing behind the scenes, except they sample a *lot* of complex distributions to approximate the overall behavior of some variable. Try using random.uniform(0,1) as one of your inputs to your pmf, or alternatively, try the hit-or-miss method on page 17 of these slides! https://hep1.phys.ntu.edu.tw/~kfjack/lecture/hepstat/in2/inter-2.pdf"
   ]
  },
  {
   "cell_type": "code",
   "execution_count": null,
   "id": "decent-manner",
   "metadata": {},
   "outputs": [],
   "source": []
  },
  {
   "cell_type": "markdown",
   "id": "atmospheric-success",
   "metadata": {},
   "source": [
    "## Exercise 4: Plot the same plots as in exercises 2 and 3, but normalize all histogram areas to one"
   ]
  },
  {
   "cell_type": "code",
   "execution_count": null,
   "id": "royal-green",
   "metadata": {},
   "outputs": [],
   "source": []
  },
  {
   "cell_type": "markdown",
   "id": "indonesian-northern",
   "metadata": {},
   "source": [
    "## Exercise 5: Compare the plots from exercises 2, 3, and 4. How does the relationship change if you run it again with 100 events instead of 10,000? What about 50,000 events?"
   ]
  },
  {
   "cell_type": "code",
   "execution_count": null,
   "id": "modified-lottery",
   "metadata": {},
   "outputs": [],
   "source": []
  }
 ],
 "metadata": {
  "kernelspec": {
   "display_name": "Python 3",
   "language": "python",
   "name": "python3"
  },
  "language_info": {
   "codemirror_mode": {
    "name": "ipython",
    "version": 3
   },
   "file_extension": ".py",
   "mimetype": "text/x-python",
   "name": "python",
   "nbconvert_exporter": "python",
   "pygments_lexer": "ipython3",
   "version": "3.9.1"
  }
 },
 "nbformat": 4,
 "nbformat_minor": 5
}
